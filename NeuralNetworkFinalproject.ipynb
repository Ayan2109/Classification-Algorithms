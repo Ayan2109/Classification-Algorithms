{
  "cells": [
    {
      "cell_type": "markdown",
      "metadata": {
        "id": "view-in-github",
        "colab_type": "text"
      },
      "source": [
        "<a href=\"https://colab.research.google.com/github/Ayan2109/Classification-Algorithms/blob/main/NeuralNetworkFinalproject.ipynb\" target=\"_parent\"><img src=\"https://colab.research.google.com/assets/colab-badge.svg\" alt=\"Open In Colab\"/></a>"
      ]
    },
    {
      "cell_type": "code",
      "execution_count": null,
      "id": "fa0eadb1-e2cc-4b78-b143-5cc9e80b8d7d",
      "metadata": {
        "id": "fa0eadb1-e2cc-4b78-b143-5cc9e80b8d7d",
        "outputId": "d76ca263-a72f-4f8a-a101-1beda286804a"
      },
      "outputs": [
        {
          "name": "stderr",
          "output_type": "stream",
          "text": [
            "Using TensorFlow backend.\n",
            "/home/jupyterlab/conda/envs/python/lib/python3.7/site-packages/tensorflow/python/framework/dtypes.py:516: FutureWarning: Passing (type, 1) or '1type' as a synonym of type is deprecated; in a future version of numpy, it will be understood as (type, (1,)) / '(1,)type'.\n",
            "  _np_qint8 = np.dtype([(\"qint8\", np.int8, 1)])\n",
            "/home/jupyterlab/conda/envs/python/lib/python3.7/site-packages/tensorflow/python/framework/dtypes.py:517: FutureWarning: Passing (type, 1) or '1type' as a synonym of type is deprecated; in a future version of numpy, it will be understood as (type, (1,)) / '(1,)type'.\n",
            "  _np_quint8 = np.dtype([(\"quint8\", np.uint8, 1)])\n",
            "/home/jupyterlab/conda/envs/python/lib/python3.7/site-packages/tensorflow/python/framework/dtypes.py:518: FutureWarning: Passing (type, 1) or '1type' as a synonym of type is deprecated; in a future version of numpy, it will be understood as (type, (1,)) / '(1,)type'.\n",
            "  _np_qint16 = np.dtype([(\"qint16\", np.int16, 1)])\n",
            "/home/jupyterlab/conda/envs/python/lib/python3.7/site-packages/tensorflow/python/framework/dtypes.py:519: FutureWarning: Passing (type, 1) or '1type' as a synonym of type is deprecated; in a future version of numpy, it will be understood as (type, (1,)) / '(1,)type'.\n",
            "  _np_quint16 = np.dtype([(\"quint16\", np.uint16, 1)])\n",
            "/home/jupyterlab/conda/envs/python/lib/python3.7/site-packages/tensorflow/python/framework/dtypes.py:520: FutureWarning: Passing (type, 1) or '1type' as a synonym of type is deprecated; in a future version of numpy, it will be understood as (type, (1,)) / '(1,)type'.\n",
            "  _np_qint32 = np.dtype([(\"qint32\", np.int32, 1)])\n",
            "/home/jupyterlab/conda/envs/python/lib/python3.7/site-packages/tensorflow/python/framework/dtypes.py:525: FutureWarning: Passing (type, 1) or '1type' as a synonym of type is deprecated; in a future version of numpy, it will be understood as (type, (1,)) / '(1,)type'.\n",
            "  np_resource = np.dtype([(\"resource\", np.ubyte, 1)])\n",
            "/home/jupyterlab/conda/envs/python/lib/python3.7/site-packages/tensorboard/compat/tensorflow_stub/dtypes.py:541: FutureWarning: Passing (type, 1) or '1type' as a synonym of type is deprecated; in a future version of numpy, it will be understood as (type, (1,)) / '(1,)type'.\n",
            "  _np_qint8 = np.dtype([(\"qint8\", np.int8, 1)])\n",
            "/home/jupyterlab/conda/envs/python/lib/python3.7/site-packages/tensorboard/compat/tensorflow_stub/dtypes.py:542: FutureWarning: Passing (type, 1) or '1type' as a synonym of type is deprecated; in a future version of numpy, it will be understood as (type, (1,)) / '(1,)type'.\n",
            "  _np_quint8 = np.dtype([(\"quint8\", np.uint8, 1)])\n",
            "/home/jupyterlab/conda/envs/python/lib/python3.7/site-packages/tensorboard/compat/tensorflow_stub/dtypes.py:543: FutureWarning: Passing (type, 1) or '1type' as a synonym of type is deprecated; in a future version of numpy, it will be understood as (type, (1,)) / '(1,)type'.\n",
            "  _np_qint16 = np.dtype([(\"qint16\", np.int16, 1)])\n",
            "/home/jupyterlab/conda/envs/python/lib/python3.7/site-packages/tensorboard/compat/tensorflow_stub/dtypes.py:544: FutureWarning: Passing (type, 1) or '1type' as a synonym of type is deprecated; in a future version of numpy, it will be understood as (type, (1,)) / '(1,)type'.\n",
            "  _np_quint16 = np.dtype([(\"quint16\", np.uint16, 1)])\n",
            "/home/jupyterlab/conda/envs/python/lib/python3.7/site-packages/tensorboard/compat/tensorflow_stub/dtypes.py:545: FutureWarning: Passing (type, 1) or '1type' as a synonym of type is deprecated; in a future version of numpy, it will be understood as (type, (1,)) / '(1,)type'.\n",
            "  _np_qint32 = np.dtype([(\"qint32\", np.int32, 1)])\n",
            "/home/jupyterlab/conda/envs/python/lib/python3.7/site-packages/tensorboard/compat/tensorflow_stub/dtypes.py:550: FutureWarning: Passing (type, 1) or '1type' as a synonym of type is deprecated; in a future version of numpy, it will be understood as (type, (1,)) / '(1,)type'.\n",
            "  np_resource = np.dtype([(\"resource\", np.ubyte, 1)])\n"
          ]
        }
      ],
      "source": [
        "import keras\n",
        "import pandas as pd \n",
        "import numpy as np\n"
      ]
    },
    {
      "cell_type": "markdown",
      "id": "ce651ebf-6749-474a-a29f-db10bb468622",
      "metadata": {
        "id": "ce651ebf-6749-474a-a29f-db10bb468622"
      },
      "source": [
        "Reading csv file"
      ]
    },
    {
      "cell_type": "code",
      "execution_count": null,
      "id": "da94758c-8afe-41b7-8f92-f167e95be338",
      "metadata": {
        "id": "da94758c-8afe-41b7-8f92-f167e95be338",
        "outputId": "d04d0a1d-857c-4944-d97e-733dfc963991"
      },
      "outputs": [
        {
          "data": {
            "text/html": [
              "<div>\n",
              "<style scoped>\n",
              "    .dataframe tbody tr th:only-of-type {\n",
              "        vertical-align: middle;\n",
              "    }\n",
              "\n",
              "    .dataframe tbody tr th {\n",
              "        vertical-align: top;\n",
              "    }\n",
              "\n",
              "    .dataframe thead th {\n",
              "        text-align: right;\n",
              "    }\n",
              "</style>\n",
              "<table border=\"1\" class=\"dataframe\">\n",
              "  <thead>\n",
              "    <tr style=\"text-align: right;\">\n",
              "      <th></th>\n",
              "      <th>Cement</th>\n",
              "      <th>Blast Furnace Slag</th>\n",
              "      <th>Fly Ash</th>\n",
              "      <th>Water</th>\n",
              "      <th>Superplasticizer</th>\n",
              "      <th>Coarse Aggregate</th>\n",
              "      <th>Fine Aggregate</th>\n",
              "      <th>Age</th>\n",
              "      <th>Strength</th>\n",
              "    </tr>\n",
              "  </thead>\n",
              "  <tbody>\n",
              "    <tr>\n",
              "      <th>0</th>\n",
              "      <td>540.0</td>\n",
              "      <td>0.0</td>\n",
              "      <td>0.0</td>\n",
              "      <td>162.0</td>\n",
              "      <td>2.5</td>\n",
              "      <td>1040.0</td>\n",
              "      <td>676.0</td>\n",
              "      <td>28</td>\n",
              "      <td>79.99</td>\n",
              "    </tr>\n",
              "    <tr>\n",
              "      <th>1</th>\n",
              "      <td>540.0</td>\n",
              "      <td>0.0</td>\n",
              "      <td>0.0</td>\n",
              "      <td>162.0</td>\n",
              "      <td>2.5</td>\n",
              "      <td>1055.0</td>\n",
              "      <td>676.0</td>\n",
              "      <td>28</td>\n",
              "      <td>61.89</td>\n",
              "    </tr>\n",
              "    <tr>\n",
              "      <th>2</th>\n",
              "      <td>332.5</td>\n",
              "      <td>142.5</td>\n",
              "      <td>0.0</td>\n",
              "      <td>228.0</td>\n",
              "      <td>0.0</td>\n",
              "      <td>932.0</td>\n",
              "      <td>594.0</td>\n",
              "      <td>270</td>\n",
              "      <td>40.27</td>\n",
              "    </tr>\n",
              "    <tr>\n",
              "      <th>3</th>\n",
              "      <td>332.5</td>\n",
              "      <td>142.5</td>\n",
              "      <td>0.0</td>\n",
              "      <td>228.0</td>\n",
              "      <td>0.0</td>\n",
              "      <td>932.0</td>\n",
              "      <td>594.0</td>\n",
              "      <td>365</td>\n",
              "      <td>41.05</td>\n",
              "    </tr>\n",
              "    <tr>\n",
              "      <th>4</th>\n",
              "      <td>198.6</td>\n",
              "      <td>132.4</td>\n",
              "      <td>0.0</td>\n",
              "      <td>192.0</td>\n",
              "      <td>0.0</td>\n",
              "      <td>978.4</td>\n",
              "      <td>825.5</td>\n",
              "      <td>360</td>\n",
              "      <td>44.30</td>\n",
              "    </tr>\n",
              "  </tbody>\n",
              "</table>\n",
              "</div>"
            ],
            "text/plain": [
              "   Cement  Blast Furnace Slag  Fly Ash  Water  Superplasticizer  \\\n",
              "0   540.0                 0.0      0.0  162.0               2.5   \n",
              "1   540.0                 0.0      0.0  162.0               2.5   \n",
              "2   332.5               142.5      0.0  228.0               0.0   \n",
              "3   332.5               142.5      0.0  228.0               0.0   \n",
              "4   198.6               132.4      0.0  192.0               0.0   \n",
              "\n",
              "   Coarse Aggregate  Fine Aggregate  Age  Strength  \n",
              "0            1040.0           676.0   28     79.99  \n",
              "1            1055.0           676.0   28     61.89  \n",
              "2             932.0           594.0  270     40.27  \n",
              "3             932.0           594.0  365     41.05  \n",
              "4             978.4           825.5  360     44.30  "
            ]
          },
          "execution_count": 2,
          "metadata": {},
          "output_type": "execute_result"
        }
      ],
      "source": [
        "df = pd.read_csv('https://cocl.us/concrete_data')\n",
        "df.head()"
      ]
    },
    {
      "cell_type": "code",
      "execution_count": null,
      "id": "cffd9146-fc07-44f8-8ea8-48c89da2f384",
      "metadata": {
        "id": "cffd9146-fc07-44f8-8ea8-48c89da2f384",
        "outputId": "e421b904-7da5-4bd1-e4a2-d4a7d0daf5f5"
      },
      "outputs": [
        {
          "data": {
            "text/html": [
              "<div>\n",
              "<style scoped>\n",
              "    .dataframe tbody tr th:only-of-type {\n",
              "        vertical-align: middle;\n",
              "    }\n",
              "\n",
              "    .dataframe tbody tr th {\n",
              "        vertical-align: top;\n",
              "    }\n",
              "\n",
              "    .dataframe thead th {\n",
              "        text-align: right;\n",
              "    }\n",
              "</style>\n",
              "<table border=\"1\" class=\"dataframe\">\n",
              "  <thead>\n",
              "    <tr style=\"text-align: right;\">\n",
              "      <th></th>\n",
              "      <th>Cement</th>\n",
              "      <th>Blast Furnace Slag</th>\n",
              "      <th>Fly Ash</th>\n",
              "      <th>Water</th>\n",
              "      <th>Superplasticizer</th>\n",
              "      <th>Coarse Aggregate</th>\n",
              "      <th>Fine Aggregate</th>\n",
              "      <th>Age</th>\n",
              "      <th>Strength</th>\n",
              "    </tr>\n",
              "  </thead>\n",
              "  <tbody>\n",
              "    <tr>\n",
              "      <th>count</th>\n",
              "      <td>1030.000000</td>\n",
              "      <td>1030.000000</td>\n",
              "      <td>1030.000000</td>\n",
              "      <td>1030.000000</td>\n",
              "      <td>1030.000000</td>\n",
              "      <td>1030.000000</td>\n",
              "      <td>1030.000000</td>\n",
              "      <td>1030.000000</td>\n",
              "      <td>1030.000000</td>\n",
              "    </tr>\n",
              "    <tr>\n",
              "      <th>mean</th>\n",
              "      <td>281.167864</td>\n",
              "      <td>73.895825</td>\n",
              "      <td>54.188350</td>\n",
              "      <td>181.567282</td>\n",
              "      <td>6.204660</td>\n",
              "      <td>972.918932</td>\n",
              "      <td>773.580485</td>\n",
              "      <td>45.662136</td>\n",
              "      <td>35.817961</td>\n",
              "    </tr>\n",
              "    <tr>\n",
              "      <th>std</th>\n",
              "      <td>104.506364</td>\n",
              "      <td>86.279342</td>\n",
              "      <td>63.997004</td>\n",
              "      <td>21.354219</td>\n",
              "      <td>5.973841</td>\n",
              "      <td>77.753954</td>\n",
              "      <td>80.175980</td>\n",
              "      <td>63.169912</td>\n",
              "      <td>16.705742</td>\n",
              "    </tr>\n",
              "    <tr>\n",
              "      <th>min</th>\n",
              "      <td>102.000000</td>\n",
              "      <td>0.000000</td>\n",
              "      <td>0.000000</td>\n",
              "      <td>121.800000</td>\n",
              "      <td>0.000000</td>\n",
              "      <td>801.000000</td>\n",
              "      <td>594.000000</td>\n",
              "      <td>1.000000</td>\n",
              "      <td>2.330000</td>\n",
              "    </tr>\n",
              "    <tr>\n",
              "      <th>25%</th>\n",
              "      <td>192.375000</td>\n",
              "      <td>0.000000</td>\n",
              "      <td>0.000000</td>\n",
              "      <td>164.900000</td>\n",
              "      <td>0.000000</td>\n",
              "      <td>932.000000</td>\n",
              "      <td>730.950000</td>\n",
              "      <td>7.000000</td>\n",
              "      <td>23.710000</td>\n",
              "    </tr>\n",
              "    <tr>\n",
              "      <th>50%</th>\n",
              "      <td>272.900000</td>\n",
              "      <td>22.000000</td>\n",
              "      <td>0.000000</td>\n",
              "      <td>185.000000</td>\n",
              "      <td>6.400000</td>\n",
              "      <td>968.000000</td>\n",
              "      <td>779.500000</td>\n",
              "      <td>28.000000</td>\n",
              "      <td>34.445000</td>\n",
              "    </tr>\n",
              "    <tr>\n",
              "      <th>75%</th>\n",
              "      <td>350.000000</td>\n",
              "      <td>142.950000</td>\n",
              "      <td>118.300000</td>\n",
              "      <td>192.000000</td>\n",
              "      <td>10.200000</td>\n",
              "      <td>1029.400000</td>\n",
              "      <td>824.000000</td>\n",
              "      <td>56.000000</td>\n",
              "      <td>46.135000</td>\n",
              "    </tr>\n",
              "    <tr>\n",
              "      <th>max</th>\n",
              "      <td>540.000000</td>\n",
              "      <td>359.400000</td>\n",
              "      <td>200.100000</td>\n",
              "      <td>247.000000</td>\n",
              "      <td>32.200000</td>\n",
              "      <td>1145.000000</td>\n",
              "      <td>992.600000</td>\n",
              "      <td>365.000000</td>\n",
              "      <td>82.600000</td>\n",
              "    </tr>\n",
              "  </tbody>\n",
              "</table>\n",
              "</div>"
            ],
            "text/plain": [
              "            Cement  Blast Furnace Slag      Fly Ash        Water  \\\n",
              "count  1030.000000         1030.000000  1030.000000  1030.000000   \n",
              "mean    281.167864           73.895825    54.188350   181.567282   \n",
              "std     104.506364           86.279342    63.997004    21.354219   \n",
              "min     102.000000            0.000000     0.000000   121.800000   \n",
              "25%     192.375000            0.000000     0.000000   164.900000   \n",
              "50%     272.900000           22.000000     0.000000   185.000000   \n",
              "75%     350.000000          142.950000   118.300000   192.000000   \n",
              "max     540.000000          359.400000   200.100000   247.000000   \n",
              "\n",
              "       Superplasticizer  Coarse Aggregate  Fine Aggregate          Age  \\\n",
              "count       1030.000000       1030.000000     1030.000000  1030.000000   \n",
              "mean           6.204660        972.918932      773.580485    45.662136   \n",
              "std            5.973841         77.753954       80.175980    63.169912   \n",
              "min            0.000000        801.000000      594.000000     1.000000   \n",
              "25%            0.000000        932.000000      730.950000     7.000000   \n",
              "50%            6.400000        968.000000      779.500000    28.000000   \n",
              "75%           10.200000       1029.400000      824.000000    56.000000   \n",
              "max           32.200000       1145.000000      992.600000   365.000000   \n",
              "\n",
              "          Strength  \n",
              "count  1030.000000  \n",
              "mean     35.817961  \n",
              "std      16.705742  \n",
              "min       2.330000  \n",
              "25%      23.710000  \n",
              "50%      34.445000  \n",
              "75%      46.135000  \n",
              "max      82.600000  "
            ]
          },
          "execution_count": 3,
          "metadata": {},
          "output_type": "execute_result"
        }
      ],
      "source": [
        "df.describe()"
      ]
    },
    {
      "cell_type": "markdown",
      "id": "c1347dac-ce32-4d58-820a-37eca50cf0ec",
      "metadata": {
        "id": "c1347dac-ce32-4d58-820a-37eca50cf0ec"
      },
      "source": [
        "Checking if the data is clean "
      ]
    },
    {
      "cell_type": "code",
      "execution_count": null,
      "id": "bb8880a8-0283-4053-bcfe-57f555fa9b2a",
      "metadata": {
        "id": "bb8880a8-0283-4053-bcfe-57f555fa9b2a",
        "outputId": "76c76c86-1a62-44af-e3f3-9f1dfce55df0"
      },
      "outputs": [
        {
          "data": {
            "text/plain": [
              "Cement                0\n",
              "Blast Furnace Slag    0\n",
              "Fly Ash               0\n",
              "Water                 0\n",
              "Superplasticizer      0\n",
              "Coarse Aggregate      0\n",
              "Fine Aggregate        0\n",
              "Age                   0\n",
              "Strength              0\n",
              "dtype: int64"
            ]
          },
          "execution_count": 4,
          "metadata": {},
          "output_type": "execute_result"
        }
      ],
      "source": [
        "df.isnull().sum()"
      ]
    },
    {
      "cell_type": "markdown",
      "id": "27dd5b2b-ea9f-44e7-957d-b8d96beec2e4",
      "metadata": {
        "id": "27dd5b2b-ea9f-44e7-957d-b8d96beec2e4"
      },
      "source": [
        "Dividing the data set into independent and dependent variables i.e X and Y"
      ]
    },
    {
      "cell_type": "code",
      "execution_count": null,
      "id": "8c113693-36c6-4f02-8a77-e4de7df60cc4",
      "metadata": {
        "id": "8c113693-36c6-4f02-8a77-e4de7df60cc4",
        "outputId": "87775ecd-8e26-4957-cb5c-504be48291e6"
      },
      "outputs": [
        {
          "name": "stdout",
          "output_type": "stream",
          "text": [
            "(1030, 8)\n",
            "(1030, 1)\n"
          ]
        }
      ],
      "source": [
        "X = df[['Cement', 'Blast Furnace Slag','Fly Ash', 'Water', 'Superplasticizer','Coarse Aggregate','Fine Aggregate','Age']]\n",
        "Y = df[['Strength']]\n",
        "print(X.shape)\n",
        "print(Y.shape)"
      ]
    },
    {
      "cell_type": "code",
      "execution_count": null,
      "id": "fb64fb62-80c9-4dc4-86cc-96c481ccdb57",
      "metadata": {
        "id": "fb64fb62-80c9-4dc4-86cc-96c481ccdb57",
        "outputId": "7305dcc0-19f2-45c5-8aa9-f2b1124b1cb8"
      },
      "outputs": [
        {
          "name": "stderr",
          "output_type": "stream",
          "text": [
            "/home/jupyterlab/conda/envs/python/lib/python3.7/site-packages/sklearn/utils/validation.py:37: DeprecationWarning: distutils Version classes are deprecated. Use packaging.version instead.\n",
            "  LARGE_SPARSE_SUPPORTED = LooseVersion(scipy_version) >= '0.14.0'\n"
          ]
        }
      ],
      "source": [
        "from keras.models import Sequential \n",
        "from keras.layers import Dense\n",
        "from sklearn.model_selection import train_test_split\n",
        "\n",
        "#splitting the data into 30% for testing and 70% for training\n",
        "X_train, X_test, Y_train, Y_test = train_test_split(X,Y, test_size = 0.3, random_state = 4)"
      ]
    },
    {
      "cell_type": "code",
      "execution_count": null,
      "id": "36fde4ce-aafb-4a24-a614-d9ce8c1b3424",
      "metadata": {
        "id": "36fde4ce-aafb-4a24-a614-d9ce8c1b3424"
      },
      "outputs": [],
      "source": [
        "# Creating the regression model\n",
        "def regression_model():\n",
        "    model = Sequential()\n",
        "    n_cols = X.shape[1]\n",
        "\n",
        "    model.add(Dense(10, activation = 'relu', input_shape = (n_cols,)))\n",
        "    model.add(Dense(1))\n",
        "    model.compile(optimizer = 'adam', loss = 'mean_squared_error')\n",
        "    \n",
        "    return model"
      ]
    },
    {
      "cell_type": "code",
      "execution_count": null,
      "id": "ff5c0170-9515-4301-a17c-ebb0521deb6f",
      "metadata": {
        "id": "ff5c0170-9515-4301-a17c-ebb0521deb6f"
      },
      "outputs": [],
      "source": [
        "\n",
        "from sklearn.metrics import mean_squared_error\n",
        "\n",
        "# function to calculate mean squared error for the model 50 times and store it in a list\n",
        "def training_model(X_train, X_test, Y_train, Y_test):\n",
        "    list_mse = []\n",
        "    \n",
        "    \n",
        "    for x in range(50):\n",
        "        \n",
        "        model = regression_model()\n",
        "        model.fit(X_train,Y_train, validation_data=(X_test, Y_test), epochs = 50, verbose = 0)\n",
        "        yhat = model.predict(X_test)\n",
        "        list_mse.append(mean_squared_error(Y_test,yhat))\n",
        "        \n",
        "    return list_mse"
      ]
    },
    {
      "cell_type": "code",
      "execution_count": null,
      "id": "7bfa79e9-d760-4cf2-aaec-7c8802fea5bd",
      "metadata": {
        "id": "7bfa79e9-d760-4cf2-aaec-7c8802fea5bd",
        "outputId": "7acb28e6-9a5b-4266-fdd6-5455f41c458b"
      },
      "outputs": [
        {
          "name": "stdout",
          "output_type": "stream",
          "text": [
            "WARNING:tensorflow:From /home/jupyterlab/conda/envs/python/lib/python3.7/site-packages/keras/backend/tensorflow_backend.py:68: The name tf.get_default_graph is deprecated. Please use tf.compat.v1.get_default_graph instead.\n",
            "\n",
            "WARNING:tensorflow:From /home/jupyterlab/conda/envs/python/lib/python3.7/site-packages/keras/backend/tensorflow_backend.py:508: The name tf.placeholder is deprecated. Please use tf.compat.v1.placeholder instead.\n",
            "\n",
            "WARNING:tensorflow:From /home/jupyterlab/conda/envs/python/lib/python3.7/site-packages/keras/backend/tensorflow_backend.py:3837: The name tf.random_uniform is deprecated. Please use tf.random.uniform instead.\n",
            "\n",
            "WARNING:tensorflow:From /home/jupyterlab/conda/envs/python/lib/python3.7/site-packages/keras/optimizers.py:757: The name tf.train.Optimizer is deprecated. Please use tf.compat.v1.train.Optimizer instead.\n",
            "\n",
            "WARNING:tensorflow:From /home/jupyterlab/conda/envs/python/lib/python3.7/site-packages/keras/backend/tensorflow_backend.py:977: The name tf.assign_add is deprecated. Please use tf.compat.v1.assign_add instead.\n",
            "\n",
            "WARNING:tensorflow:From /home/jupyterlab/conda/envs/python/lib/python3.7/site-packages/keras/backend/tensorflow_backend.py:964: The name tf.assign is deprecated. Please use tf.compat.v1.assign instead.\n",
            "\n"
          ]
        },
        {
          "name": "stderr",
          "output_type": "stream",
          "text": [
            "2022-05-05 11:55:27.497838: I tensorflow/core/platform/cpu_feature_guard.cc:142] Your CPU supports instructions that this TensorFlow binary was not compiled to use: SSE4.1 SSE4.2 AVX AVX2 AVX512F FMA\n",
            "2022-05-05 11:55:27.503475: I tensorflow/core/platform/profile_utils/cpu_utils.cc:94] CPU Frequency: 2593900000 Hz\n",
            "2022-05-05 11:55:27.504140: I tensorflow/compiler/xla/service/service.cc:168] XLA service 0x5587441b4590 executing computations on platform Host. Devices:\n",
            "2022-05-05 11:55:27.504183: I tensorflow/compiler/xla/service/service.cc:175]   StreamExecutor device (0): <undefined>, <undefined>\n",
            "2022-05-05 11:55:27.580102: W tensorflow/compiler/jit/mark_for_compilation_pass.cc:1412] (One-time warning): Not using XLA:CPU for cluster because envvar TF_XLA_FLAGS=--tf_xla_cpu_global_jit was not set.  If you want XLA:CPU, either set that envvar, or use experimental_jit_scope to enable XLA:CPU.  To confirm that XLA is active, pass --vmodule=xla_compilation_cache=1 (as a proper command-line flag, not via TF_XLA_FLAGS) or set the envvar XLA_FLAGS=--xla_hlo_profile.\n"
          ]
        }
      ],
      "source": [
        "#list of 50 mean squared errors from the iterations\n",
        "list_of_mse = training_model(X_train, X_test, Y_train, Y_test)"
      ]
    },
    {
      "cell_type": "code",
      "execution_count": null,
      "id": "05b0630d-0061-458f-a520-927edf29f0e4",
      "metadata": {
        "id": "05b0630d-0061-458f-a520-927edf29f0e4",
        "outputId": "6ce0fcca-e486-42c3-a7ed-6b868f431c88"
      },
      "outputs": [
        {
          "name": "stdout",
          "output_type": "stream",
          "text": [
            "List of MSE: [127.80881974304131, 1705.211548304328, 319.51974486135254, 770.0533794329504, 155.00944894804525, 298.1063927639839, 317.78870299058264, 281.1567400611076, 213.23736525254256, 183.9777968838942, 121.91847056387988, 587.2485931941657, 361.4842764620646, 315.6400570427317, 330.8804775125685, 1905.3868875661353, 126.44095423311937, 224.36284457762855, 543.7560018493233, 138.30504825022572, 286.8275879678651, 237.35563703467994, 120.58797957145106, 223.26684925498256, 203.8462521735834, 275.00616971327094, 137.82391703435917, 234.16411539674138, 297.554406992183, 156.25900982967175, 635.117954891442, 145.22640021915836, 199.47968441526356, 118.18144813746423, 757.8162650482851, 131.40124867112604, 243.26681601689774, 189.47508962654092, 134.93163258440876, 147.5187779900004, 200.5342318954957, 200.23445804671366, 162.7443488061502, 1144.0780996416943, 165.28490880930423, 220.8001810884932, 125.0198766516457, 131.763421610506, 130.029127118838, 848.4009867149248]\n",
            "Standard Deviation: 367.082\n",
            "Mean: 344.626\n"
          ]
        }
      ],
      "source": [
        "#printing and caclulating the list, standard deviation for the list and the mean for the list of Part A\n",
        "print('List of MSE: {}'.format(list_of_mse))\n",
        "std_A = np.std(list_of_mse)\n",
        "mean_A = np.mean(list_of_mse)\n",
        "print('Standard Deviation: {0:.3f}'.format(std_A))\n",
        "print('Mean: {0:.3f}'.format(mean_A))"
      ]
    },
    {
      "cell_type": "markdown",
      "id": "36055b70-3b44-4a21-9f66-8db4f618d317",
      "metadata": {
        "id": "36055b70-3b44-4a21-9f66-8db4f618d317"
      },
      "source": [
        "Part B: Using Normalized Data "
      ]
    },
    {
      "cell_type": "code",
      "execution_count": null,
      "id": "264e69d9-2b8d-4ae7-bb0d-87a0584fd220",
      "metadata": {
        "id": "264e69d9-2b8d-4ae7-bb0d-87a0584fd220",
        "outputId": "6ae71be9-7330-4e5b-f7d5-cc510a96f891"
      },
      "outputs": [
        {
          "name": "stderr",
          "output_type": "stream",
          "text": [
            "/home/jupyterlab/conda/envs/python/lib/python3.7/site-packages/sklearn/preprocessing/data.py:625: DataConversionWarning: Data with input dtype int64, float64 were all converted to float64 by StandardScaler.\n",
            "  return self.partial_fit(X, y)\n",
            "/home/jupyterlab/conda/envs/python/lib/python3.7/site-packages/ipykernel_launcher.py:3: DataConversionWarning: Data with input dtype int64, float64 were all converted to float64 by StandardScaler.\n",
            "  This is separate from the ipykernel package so we can avoid doing imports until\n"
          ]
        }
      ],
      "source": [
        "# Normalizing the data using preprocesssing from sklean\n",
        "from sklearn import preprocessing\n",
        "X = preprocessing.StandardScaler().fit(X).transform(X)\n",
        "\n",
        "#train test split for normalized data\n",
        "X_train, X_test, Y_train, Y_test = train_test_split(X,Y, test_size = 0.3, random_state = 4)\n"
      ]
    },
    {
      "cell_type": "code",
      "execution_count": null,
      "id": "00bb64bc-55da-425e-b6ec-c35bec1624ca",
      "metadata": {
        "id": "00bb64bc-55da-425e-b6ec-c35bec1624ca"
      },
      "outputs": [],
      "source": [
        "#calling the function to store the list of mean squared errors\n",
        "list_of_mse_normalizeddata = training_model(X_train, X_test, Y_train, Y_test)"
      ]
    },
    {
      "cell_type": "code",
      "execution_count": null,
      "id": "2f5eecad-9b47-47a9-aa3c-a3d75a8341c5",
      "metadata": {
        "id": "2f5eecad-9b47-47a9-aa3c-a3d75a8341c5",
        "outputId": "f6520bf5-9765-4915-fb3a-dd06274408aa"
      },
      "outputs": [
        {
          "name": "stdout",
          "output_type": "stream",
          "text": [
            "List of MSE for Normalized Data [592.7222390261418, 724.6893657462159, 297.39235134204415, 250.9006871160399, 299.07083620078885, 289.85150824003, 300.19575666532154, 535.3977804765808, 387.76644314784585, 312.6343442204327, 325.33150708072264, 336.952639049529, 413.80070542937983, 317.72565266873676, 359.459643504284, 306.14358424798473, 703.7532372203515, 487.85837183608623, 330.46534386439345, 378.7052073719548, 265.62023154085966, 351.7645518922079, 272.39268713923065, 436.2032290080492, 494.91541213332187, 379.298308836202, 360.73444959372193, 322.6195514549114, 289.6289286282455, 831.3148732921378, 419.6145692949797, 341.4906297854656, 418.93335821925234, 315.36849560719224, 404.2479730375691, 422.5363930689856, 503.67380526219813, 345.27119981376154, 336.3716738255904, 296.0716853881329, 319.46225612484415, 338.31751661530853, 278.663006364608, 359.8937127843972, 371.1562621050418, 381.356684061439, 350.63694905260394, 276.607960486306, 256.4522362188377, 496.535626659544]:\n",
            "Standard Deviation for Normalized Data 120.147:\n",
            "Mean for Normalized Data: 383.759\n"
          ]
        }
      ],
      "source": [
        "#printing and caclulating the list, standard deviation for the list and the mean for the list of Part B\n",
        "print('List of MSE for Normalized Data {}:'.format(list_of_mse_normalizeddata))\n",
        "std_B = np.std(list_of_mse_normalizeddata)\n",
        "mean_B = np.mean(list_of_mse_normalizeddata)\n",
        "print('Standard Deviation for Normalized Data {0:.3f}:'.format(std_B))\n",
        "print('Mean for Normalized Data: {0:.3f}'.format(mean_B))"
      ]
    },
    {
      "cell_type": "code",
      "execution_count": null,
      "id": "f3fc5d84-bff0-4441-85b3-440b8884b4ee",
      "metadata": {
        "id": "f3fc5d84-bff0-4441-85b3-440b8884b4ee",
        "outputId": "cd68037b-5362-40ec-b8ae-c7c4bf9f7871"
      },
      "outputs": [
        {
          "name": "stdout",
          "output_type": "stream",
          "text": [
            "Mean for part A:344.626\n",
            "Mean of Part B: 383.759\n"
          ]
        }
      ],
      "source": [
        "print('Mean for part A:{0:.3f}'.format(mean_A))\n",
        "print('Mean of Part B: {0:.3f}'.format(mean_B))"
      ]
    },
    {
      "cell_type": "code",
      "execution_count": null,
      "id": "98454913-aaec-4216-a686-25e1eb3f9c89",
      "metadata": {
        "id": "98454913-aaec-4216-a686-25e1eb3f9c89",
        "outputId": "e3f45fca-e683-47f3-db44-d9e92f1b6ce3"
      },
      "outputs": [
        {
          "name": "stdout",
          "output_type": "stream",
          "text": [
            "Mean of Part B is 39.134 more than Part A\n"
          ]
        }
      ],
      "source": [
        "# comparing the mean for Part B and Part A\n",
        "print('Mean of Part B is {0:.3f} more than Part A'.format(mean_B-mean_A))"
      ]
    },
    {
      "cell_type": "markdown",
      "id": "c407b8c1-99fb-4c59-8202-a165f1522268",
      "metadata": {
        "id": "c407b8c1-99fb-4c59-8202-a165f1522268"
      },
      "source": [
        "PART C: using 100 Epochs to build Training model "
      ]
    },
    {
      "cell_type": "code",
      "execution_count": null,
      "id": "b2f3aed5-2050-4ace-82d5-7e6ec37f524f",
      "metadata": {
        "id": "b2f3aed5-2050-4ace-82d5-7e6ec37f524f"
      },
      "outputs": [],
      "source": [
        "# list to store mean squared errors for part C\n",
        "list_of_mse_Part_C =[]\n",
        "\n",
        "#Calculating 50 mean squared errors but with epoch set at 100\n",
        "for x in range(50):\n",
        "    model = regression_model()\n",
        "    model.fit(X_train,Y_train, validation_data=(X_test, Y_test), epochs = 100, verbose = 0)\n",
        "    yhatC = model.predict(X_test)\n",
        "    list_of_mse_Part_C.append(mean_squared_error(Y_test,yhatC))\n",
        "                              \n"
      ]
    },
    {
      "cell_type": "code",
      "execution_count": null,
      "id": "6ee810a6-eb4a-41f8-823a-919ae4c6eb31",
      "metadata": {
        "id": "6ee810a6-eb4a-41f8-823a-919ae4c6eb31",
        "outputId": "10a7431c-6ece-4b1d-fbd6-9f507b5de18b"
      },
      "outputs": [
        {
          "name": "stdout",
          "output_type": "stream",
          "text": [
            "List of MSE: [177.40095069380308, 196.9227673960592, 182.9059420434841, 179.5361710606211, 166.26610060365627, 168.09103146433506, 169.1557968152035, 163.43780152873208, 170.24013322916284, 168.251195650801, 179.54910129456815, 166.45442875033035, 175.00607068748866, 163.45474273063476, 187.60559397811926, 162.53065173623702, 168.57389860525598, 170.40245009266746, 181.1008767695693, 186.05955664771463, 167.097095106974, 192.92842576375037, 186.9944724869252, 178.91779391578663, 176.77750678329346, 201.29251497734964, 171.9575366028507, 187.40034408261826, 172.18649593757385, 184.8811077788933, 171.67952369444902, 183.11243685613593, 173.11397894287768, 170.63202481242143, 175.35595668602923, 172.94982908990426, 201.07108572256422, 176.99336369811536, 170.2990823550843, 170.3793354060767, 160.44108033755194, 186.60880404895056, 155.87748909822864, 211.88935971921458, 180.43187462151565, 169.6937254493493, 190.14325473101997, 203.2008961308456, 219.22309653676382, 195.71919130076424]\n",
            "Standard Deviation: 13.290\n",
            "Mean: 178.844\n"
          ]
        }
      ],
      "source": [
        "#printing and caclulating the list, standard deviation for the list and the mean for the list of Part C\n",
        "\n",
        "print('List of MSE: {}'.format(list_of_mse_Part_C))\n",
        "std_C = np.std(list_of_mse_Part_C)\n",
        "mean_C = np.mean(list_of_mse_Part_C)\n",
        "print('Standard Deviation: {0:.3f}'.format(std_C))\n",
        "print('Mean: {0:.3f}'.format(mean_C))"
      ]
    },
    {
      "cell_type": "code",
      "execution_count": null,
      "id": "2214473e-1e2e-4266-86b5-09981d635868",
      "metadata": {
        "id": "2214473e-1e2e-4266-86b5-09981d635868",
        "outputId": "013ea1ac-6cf2-4d1f-ce79-127c142c3b2a"
      },
      "outputs": [
        {
          "name": "stdout",
          "output_type": "stream",
          "text": [
            "Mean for Part B: 383.759\n",
            "Mean for Part C: 178.844\n"
          ]
        }
      ],
      "source": [
        "print('Mean for Part B: {0:.3f}'.format(mean_B))\n",
        "print('Mean for Part C: {0:.3f}'.format(mean_C))"
      ]
    },
    {
      "cell_type": "code",
      "execution_count": null,
      "id": "03bb3d2d-92b1-43b3-8bae-c88ada74b197",
      "metadata": {
        "id": "03bb3d2d-92b1-43b3-8bae-c88ada74b197",
        "outputId": "6b3ae497-cb91-4611-b833-5855fa6af353"
      },
      "outputs": [
        {
          "name": "stdout",
          "output_type": "stream",
          "text": [
            "Mean for Part C is 204.916 less than Part B\n"
          ]
        }
      ],
      "source": [
        "# Comparing Mean for Part C and Part B\n",
        "print('Mean for Part C is {0:.3f} less than Part B'.format(mean_B - mean_C))"
      ]
    },
    {
      "cell_type": "markdown",
      "id": "9438fb1d-a14a-4e7d-9164-729235190fb8",
      "metadata": {
        "id": "9438fb1d-a14a-4e7d-9164-729235190fb8"
      },
      "source": [
        "PART D: Increasing the Number of Hidden layers"
      ]
    },
    {
      "cell_type": "code",
      "execution_count": null,
      "id": "fa950d27-6780-4610-9636-87b50caf7062",
      "metadata": {
        "id": "fa950d27-6780-4610-9636-87b50caf7062"
      },
      "outputs": [],
      "source": [
        "#creating the new regresssion model with 3 hidden layers\n",
        "def new_regression_model():\n",
        "    \n",
        "    model = Sequential()\n",
        "    n_cols = X.shape[1]\n",
        "    # 3 hidden layers\n",
        "    model.add(Dense(10, activation = 'relu', input_shape = (n_cols,)))\n",
        "    model.add(Dense(10, activation = 'relu'))\n",
        "    model.add(Dense(10, activation = 'relu'))\n",
        "    model.add(Dense(1))\n",
        "    \n",
        "    model.compile(optimizer = 'adam', loss = 'mean_squared_error')\n",
        "    \n",
        "    return model\n",
        "    "
      ]
    },
    {
      "cell_type": "code",
      "execution_count": null,
      "id": "2d32df2b-73a1-4bc6-81c8-b61c827dd0c1",
      "metadata": {
        "id": "2d32df2b-73a1-4bc6-81c8-b61c827dd0c1"
      },
      "outputs": [],
      "source": [
        "# list to input the mean squared error\n",
        "list_of_mse_Part_D =[]\n",
        "\n",
        "#calculating mean squared error 50 times\n",
        "for x in range(50):\n",
        "    model = new_regression_model()\n",
        "    model.fit(X_train,Y_train, validation_data=(X_test, Y_test), epochs = 50, verbose = 0)\n",
        "    yhatD = model.predict(X_test)\n",
        "    list_of_mse_Part_D.append(mean_squared_error(Y_test,yhatD))\n",
        "    \n"
      ]
    },
    {
      "cell_type": "code",
      "execution_count": null,
      "id": "67184101-f341-4410-933e-38ef9547ad13",
      "metadata": {
        "id": "67184101-f341-4410-933e-38ef9547ad13",
        "outputId": "35324d59-fb12-4373-fdae-f91d4b783f62"
      },
      "outputs": [
        {
          "name": "stdout",
          "output_type": "stream",
          "text": [
            "List of MSE: [109.54154863998032, 156.3220605156678, 140.54727995406807, 155.15605931084187, 155.102521892446, 137.49525195821008, 145.15388126148872, 157.481347614137, 115.54532453175091, 146.72532518767588, 150.00648987309177, 148.10326930053776, 134.92022240432158, 143.0580091645183, 123.33118120009756, 139.52615462549494, 137.1783854408178, 141.94622460825454, 137.60705931336162, 121.3227232403957, 144.9862977723237, 152.8731230539416, 149.57365035301427, 149.2268859932808, 146.42464378252382, 146.20847644901033, 143.51234307753526, 110.59352627072072, 107.40529204132503, 115.73511938788754, 137.06756201741874, 148.36265605060476, 136.79428699675663, 144.47233289631987, 157.45842314899906, 145.84672507884486, 132.40369337185442, 148.5202314438835, 155.45075341779267, 141.2949731102247, 126.36381201277179, 153.38113640369193, 137.02762500737023, 126.22247469505147, 144.1266356215412, 148.5911872308733, 142.97507192072575, 146.79351259159998, 143.18796272683645, 146.9090048428323]\n",
            "Standard Deviation: 12.671\n",
            "Mean: 140.517\n"
          ]
        }
      ],
      "source": [
        "#printing and caclulating the list, standard deviation for the list and the mean for the list of Part D\n",
        "\n",
        "print('List of MSE: {}'.format(list_of_mse_Part_D))\n",
        "std_D = np.std(list_of_mse_Part_D)\n",
        "mean_D = np.mean(list_of_mse_Part_D)\n",
        "print('Standard Deviation: {0:.3f}'.format(std_D))\n",
        "print('Mean: {0:.3f}'.format(mean_D))"
      ]
    },
    {
      "cell_type": "code",
      "execution_count": null,
      "id": "417cf84d-5378-467f-a900-d03d0c13ebba",
      "metadata": {
        "id": "417cf84d-5378-467f-a900-d03d0c13ebba",
        "outputId": "1db77829-8450-4bbe-f624-516f2e9c513e"
      },
      "outputs": [
        {
          "name": "stdout",
          "output_type": "stream",
          "text": [
            "Mean for Part B: 383.759\n",
            "Mean for Part D: 140.517\n"
          ]
        }
      ],
      "source": [
        "print('Mean for Part B: {0:.3f}'.format(mean_B))\n",
        "print('Mean for Part D: {0:.3f}'.format(mean_D))"
      ]
    },
    {
      "cell_type": "code",
      "execution_count": null,
      "id": "d82341ed-1b13-4b06-8113-4dbe8086eb5e",
      "metadata": {
        "id": "d82341ed-1b13-4b06-8113-4dbe8086eb5e",
        "outputId": "47517026-3c65-4a1c-9021-175785a2d26f"
      },
      "outputs": [
        {
          "name": "stdout",
          "output_type": "stream",
          "text": [
            "Mean for Part D is 243.242 less than Part B\n"
          ]
        }
      ],
      "source": [
        "# Comparing Mean for Part D and Part B\n",
        "\n",
        "print('Mean for Part D is {0:.3f} less than Part B'.format(mean_B - mean_D))"
      ]
    },
    {
      "cell_type": "code",
      "execution_count": null,
      "id": "88bd9aff-bc79-4d04-83a5-f77a4a60d2de",
      "metadata": {
        "id": "88bd9aff-bc79-4d04-83a5-f77a4a60d2de"
      },
      "outputs": [],
      "source": [
        ""
      ]
    }
  ],
  "metadata": {
    "kernelspec": {
      "display_name": "Python",
      "language": "python",
      "name": "conda-env-python-py"
    },
    "language_info": {
      "codemirror_mode": {
        "name": "ipython",
        "version": 3
      },
      "file_extension": ".py",
      "mimetype": "text/x-python",
      "name": "python",
      "nbconvert_exporter": "python",
      "pygments_lexer": "ipython3",
      "version": "3.7.12"
    },
    "colab": {
      "name": "NeuralNetworkFinalproject (1).ipynb",
      "provenance": [],
      "collapsed_sections": [],
      "include_colab_link": true
    }
  },
  "nbformat": 4,
  "nbformat_minor": 5
}